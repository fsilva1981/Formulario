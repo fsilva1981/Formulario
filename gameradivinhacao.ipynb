{
  "cells": [
    {
      "cell_type": "markdown",
      "metadata": {
        "colab_type": "text",
        "id": "view-in-github"
      },
      "source": [
        "<a href=\"https://colab.research.google.com/github/fsilva1981/Formulario/blob/master/gameradivinhacao.ipynb\" target=\"_parent\"><img src=\"https://colab.research.google.com/assets/colab-badge.svg\" alt=\"Open In Colab\"/></a>"
      ]
    },
    {
      "cell_type": "code",
      "execution_count": 6,
      "metadata": {
        "colab": {
          "base_uri": "https://localhost:8080/"
        },
        "id": "UbvGx6JpEI7g",
        "outputId": "f41d3f02-05a4-4d74-8caf-3ef404492f3f"
      },
      "outputs": [
        {
          "name": "stdout",
          "output_type": "stream",
          "text": [
            "*********************************\n",
            "Bem vindo no jogo de Adivinhação!\n",
            "*********************************\n",
            "tentativa 1 de 3\n",
            "Você digitou  45\n",
            "Você errou o seu chute foi maior que o numero secreto.\n",
            "tentativa 2 de 3\n",
            "Você digitou  56\n",
            "Você errou o seu chute foi maior que o numero secreto.\n",
            "tentativa 3 de 3\n",
            "Você digitou  67\n",
            "Você errou o seu chute foi maior que o numero secreto.\n"
          ]
        }
      ],
      "source": [
        "print(\"*********************************\")\n",
        "print(\"Bem vindo no jogo de Adivinhação!\")\n",
        "print(\"*********************************\")\n",
        "\n",
        "\n",
        "numero_secreto = 42\n",
        "total_tentativas = 3\n",
        "rodada = 1\n",
        "\n",
        "while(rodada <= total_tentativas):\n",
        "    print(\"tentativa\", rodada, \"de\", total_tentativas)\n",
        "    chute_str = input(\"Digite o seu numero: \")\n",
        "    print(\"Você digitou \", chute_str)\n",
        "    chute = int(chute_str)\n",
        "\n",
        "    acertou = chute == numero_secreto\n",
        "    maior = chute > numero_secreto\n",
        "    menor = chute < numero_secreto\n",
        "\n",
        "\n",
        "    if(acertou):\n",
        "        print(\"Você acertou!\")\n",
        "    else:\n",
        "        if(maior):\n",
        "            print(\"Você errou o seu chute foi maior que o numero secreto.\")\n",
        "        elif(menor):\n",
        "            print(\"Você errou! O seu chute foi menor do que o número secreto.\")\n",
        "\n",
        "    rodada = rodada + 1\n",
        "\n"
      ]
    }
  ],
  "metadata": {
    "colab": {
      "authorship_tag": "ABX9TyMesifnOWdtBOckCccVrryf",
      "include_colab_link": true,
      "name": "gameradivinhacao.ipynb",
      "provenance": []
    },
    "interpreter": {
      "hash": "31f2aee4e71d21fbe5cf8b01ff0e069b9275f58929596ceb00d14d90e3e16cd6"
    },
    "kernelspec": {
      "display_name": "Python 3.8.9 64-bit",
      "language": "python",
      "name": "python3"
    },
    "language_info": {
      "codemirror_mode": {
        "name": "ipython",
        "version": 3
      },
      "file_extension": ".py",
      "mimetype": "text/x-python",
      "name": "python",
      "nbconvert_exporter": "python",
      "pygments_lexer": "ipython3",
      "version": "3.8.9"
    }
  },
  "nbformat": 4,
  "nbformat_minor": 0
}
