{
  "nbformat": 4,
  "nbformat_minor": 0,
  "metadata": {
    "colab": {
      "name": "gameradivinhacao.ipynb",
      "provenance": [],
      "authorship_tag": "ABX9TyMesifnOWdtBOckCccVrryf",
      "include_colab_link": true
    },
    "kernelspec": {
      "name": "python3",
      "display_name": "Python 3"
    },
    "language_info": {
      "name": "python"
    }
  },
  "cells": [
    {
      "cell_type": "markdown",
      "metadata": {
        "id": "view-in-github",
        "colab_type": "text"
      },
      "source": [
        "<a href=\"https://colab.research.google.com/github/fsilva1981/Formulario/blob/master/gameradivinhacao.ipynb\" target=\"_parent\"><img src=\"https://colab.research.google.com/assets/colab-badge.svg\" alt=\"Open In Colab\"/></a>"
      ]
    },
    {
      "cell_type": "code",
      "execution_count": 1,
      "metadata": {
        "colab": {
          "base_uri": "https://localhost:8080/"
        },
        "id": "UbvGx6JpEI7g",
        "outputId": "f41d3f02-05a4-4d74-8caf-3ef404492f3f"
      },
      "outputs": [
        {
          "output_type": "stream",
          "name": "stdout",
          "text": [
            "*********************************\n",
            "Bem vindo no jogo de Adivinhação!\n",
            "*********************************\n"
          ]
        }
      ],
      "source": [
        "print(\"*********************************\")\n",
        "print(\"Bem vindo no jogo de Adivinhação!\")\n",
        "print(\"*********************************\")"
      ]
    }
  ]
}